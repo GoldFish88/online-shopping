{
 "cells": [
  {
   "cell_type": "code",
   "execution_count": 1,
   "metadata": {},
   "outputs": [],
   "source": [
    "## Data analysisi libraries\n",
    "import pandas as pd\n",
    "import numpy as np\n",
    "import matplotlib.pyplot as plt\n",
    "import seaborn as sns\n",
    "\n",
    "# Parameter tuning libraries\n",
    "from sklearn.model_selection import GridSearchCV\n",
    "\n",
    "## Pre-processing libraries\n",
    "from sklearn.preprocessing import StandardScaler, OneHotEncoder\n",
    "from sklearn.pipeline import Pipeline\n",
    "from sklearn.compose import ColumnTransformer\n",
    "\n",
    "## Validation libraries\n",
    "from sklearn.model_selection import train_test_split, KFold\n",
    "\n",
    "## Model libraries\n",
    "from sklearn.neighbors import KNeighborsClassifier\n",
    "from sklearn.neural_network import MLPClassifier\n",
    "from sklearn.svm import SVC\n",
    "\n",
    "## Evaluation libraries\n",
    "from sklearn.metrics import confusion_matrix, classification_report, recall_score"
   ]
  },
  {
   "cell_type": "code",
   "execution_count": 2,
   "metadata": {},
   "outputs": [],
   "source": [
    "## References\n",
    "\n",
    "# https://cxl.com/guides/bounce-rate/bounce-rate-vs-exit-rate/\n",
    "# https://support.google.com/analytics/answer/2525491?hl=en\n",
    "# https://support.google.com/analytics/answer/2525491?hl=en\n",
    "# https://support.google.com/analytics/answer/2695658?hl=en#:~:text=Page%20Value%20is%20the%20average,more%20to%20your%20site's%20revenue."
   ]
  },
  {
   "cell_type": "code",
   "execution_count": 3,
   "metadata": {},
   "outputs": [],
   "source": [
    "df = pd.read_csv('online_shoppers_intention.csv')\n",
    "#source : https://archive.ics.uci.edu/ml/datasets/Online+Shoppers+Purchasing+Intention+Dataset#"
   ]
  },
  {
   "cell_type": "code",
   "execution_count": 4,
   "metadata": {},
   "outputs": [
    {
     "data": {
      "text/html": [
       "<div>\n",
       "<style scoped>\n",
       "    .dataframe tbody tr th:only-of-type {\n",
       "        vertical-align: middle;\n",
       "    }\n",
       "\n",
       "    .dataframe tbody tr th {\n",
       "        vertical-align: top;\n",
       "    }\n",
       "\n",
       "    .dataframe thead th {\n",
       "        text-align: right;\n",
       "    }\n",
       "</style>\n",
       "<table border=\"1\" class=\"dataframe\">\n",
       "  <thead>\n",
       "    <tr style=\"text-align: right;\">\n",
       "      <th></th>\n",
       "      <th>Administrative</th>\n",
       "      <th>Administrative_Duration</th>\n",
       "      <th>Informational</th>\n",
       "      <th>Informational_Duration</th>\n",
       "      <th>ProductRelated</th>\n",
       "      <th>ProductRelated_Duration</th>\n",
       "      <th>BounceRates</th>\n",
       "      <th>ExitRates</th>\n",
       "      <th>PageValues</th>\n",
       "      <th>SpecialDay</th>\n",
       "      <th>Month</th>\n",
       "      <th>OperatingSystems</th>\n",
       "      <th>Browser</th>\n",
       "      <th>Region</th>\n",
       "      <th>TrafficType</th>\n",
       "      <th>VisitorType</th>\n",
       "      <th>Weekend</th>\n",
       "      <th>Revenue</th>\n",
       "    </tr>\n",
       "  </thead>\n",
       "  <tbody>\n",
       "    <tr>\n",
       "      <th>0</th>\n",
       "      <td>0</td>\n",
       "      <td>0.0</td>\n",
       "      <td>0</td>\n",
       "      <td>0.0</td>\n",
       "      <td>1</td>\n",
       "      <td>0.000000</td>\n",
       "      <td>0.20</td>\n",
       "      <td>0.20</td>\n",
       "      <td>0.0</td>\n",
       "      <td>0.0</td>\n",
       "      <td>Feb</td>\n",
       "      <td>1</td>\n",
       "      <td>1</td>\n",
       "      <td>1</td>\n",
       "      <td>1</td>\n",
       "      <td>Returning_Visitor</td>\n",
       "      <td>False</td>\n",
       "      <td>False</td>\n",
       "    </tr>\n",
       "    <tr>\n",
       "      <th>1</th>\n",
       "      <td>0</td>\n",
       "      <td>0.0</td>\n",
       "      <td>0</td>\n",
       "      <td>0.0</td>\n",
       "      <td>2</td>\n",
       "      <td>64.000000</td>\n",
       "      <td>0.00</td>\n",
       "      <td>0.10</td>\n",
       "      <td>0.0</td>\n",
       "      <td>0.0</td>\n",
       "      <td>Feb</td>\n",
       "      <td>2</td>\n",
       "      <td>2</td>\n",
       "      <td>1</td>\n",
       "      <td>2</td>\n",
       "      <td>Returning_Visitor</td>\n",
       "      <td>False</td>\n",
       "      <td>False</td>\n",
       "    </tr>\n",
       "    <tr>\n",
       "      <th>2</th>\n",
       "      <td>0</td>\n",
       "      <td>0.0</td>\n",
       "      <td>0</td>\n",
       "      <td>0.0</td>\n",
       "      <td>1</td>\n",
       "      <td>0.000000</td>\n",
       "      <td>0.20</td>\n",
       "      <td>0.20</td>\n",
       "      <td>0.0</td>\n",
       "      <td>0.0</td>\n",
       "      <td>Feb</td>\n",
       "      <td>4</td>\n",
       "      <td>1</td>\n",
       "      <td>9</td>\n",
       "      <td>3</td>\n",
       "      <td>Returning_Visitor</td>\n",
       "      <td>False</td>\n",
       "      <td>False</td>\n",
       "    </tr>\n",
       "    <tr>\n",
       "      <th>3</th>\n",
       "      <td>0</td>\n",
       "      <td>0.0</td>\n",
       "      <td>0</td>\n",
       "      <td>0.0</td>\n",
       "      <td>2</td>\n",
       "      <td>2.666667</td>\n",
       "      <td>0.05</td>\n",
       "      <td>0.14</td>\n",
       "      <td>0.0</td>\n",
       "      <td>0.0</td>\n",
       "      <td>Feb</td>\n",
       "      <td>3</td>\n",
       "      <td>2</td>\n",
       "      <td>2</td>\n",
       "      <td>4</td>\n",
       "      <td>Returning_Visitor</td>\n",
       "      <td>False</td>\n",
       "      <td>False</td>\n",
       "    </tr>\n",
       "    <tr>\n",
       "      <th>4</th>\n",
       "      <td>0</td>\n",
       "      <td>0.0</td>\n",
       "      <td>0</td>\n",
       "      <td>0.0</td>\n",
       "      <td>10</td>\n",
       "      <td>627.500000</td>\n",
       "      <td>0.02</td>\n",
       "      <td>0.05</td>\n",
       "      <td>0.0</td>\n",
       "      <td>0.0</td>\n",
       "      <td>Feb</td>\n",
       "      <td>3</td>\n",
       "      <td>3</td>\n",
       "      <td>1</td>\n",
       "      <td>4</td>\n",
       "      <td>Returning_Visitor</td>\n",
       "      <td>True</td>\n",
       "      <td>False</td>\n",
       "    </tr>\n",
       "  </tbody>\n",
       "</table>\n",
       "</div>"
      ],
      "text/plain": [
       "   Administrative  Administrative_Duration  Informational  \\\n",
       "0               0                      0.0              0   \n",
       "1               0                      0.0              0   \n",
       "2               0                      0.0              0   \n",
       "3               0                      0.0              0   \n",
       "4               0                      0.0              0   \n",
       "\n",
       "   Informational_Duration  ProductRelated  ProductRelated_Duration  \\\n",
       "0                     0.0               1                 0.000000   \n",
       "1                     0.0               2                64.000000   \n",
       "2                     0.0               1                 0.000000   \n",
       "3                     0.0               2                 2.666667   \n",
       "4                     0.0              10               627.500000   \n",
       "\n",
       "   BounceRates  ExitRates  PageValues  SpecialDay Month  OperatingSystems  \\\n",
       "0         0.20       0.20         0.0         0.0   Feb                 1   \n",
       "1         0.00       0.10         0.0         0.0   Feb                 2   \n",
       "2         0.20       0.20         0.0         0.0   Feb                 4   \n",
       "3         0.05       0.14         0.0         0.0   Feb                 3   \n",
       "4         0.02       0.05         0.0         0.0   Feb                 3   \n",
       "\n",
       "   Browser  Region  TrafficType        VisitorType  Weekend  Revenue  \n",
       "0        1       1            1  Returning_Visitor    False    False  \n",
       "1        2       1            2  Returning_Visitor    False    False  \n",
       "2        1       9            3  Returning_Visitor    False    False  \n",
       "3        2       2            4  Returning_Visitor    False    False  \n",
       "4        3       1            4  Returning_Visitor     True    False  "
      ]
     },
     "execution_count": 4,
     "metadata": {},
     "output_type": "execute_result"
    }
   ],
   "source": [
    "df.head()"
   ]
  },
  {
   "cell_type": "code",
   "execution_count": 10,
   "metadata": {},
   "outputs": [
    {
     "data": {
      "text/plain": [
       "Returning_Visitor    10551\n",
       "New_Visitor           1694\n",
       "Other                   85\n",
       "Name: VisitorType, dtype: int64"
      ]
     },
     "execution_count": 10,
     "metadata": {},
     "output_type": "execute_result"
    }
   ],
   "source": [
    "df['VisitorType'].value_counts()"
   ]
  },
  {
   "cell_type": "code",
   "execution_count": 5,
   "metadata": {},
   "outputs": [
    {
     "data": {
      "text/plain": [
       "(12330, 18)"
      ]
     },
     "execution_count": 5,
     "metadata": {},
     "output_type": "execute_result"
    }
   ],
   "source": [
    "df.shape"
   ]
  },
  {
   "cell_type": "code",
   "execution_count": 6,
   "metadata": {},
   "outputs": [
    {
     "name": "stdout",
     "output_type": "stream",
     "text": [
      "<class 'pandas.core.frame.DataFrame'>\n",
      "RangeIndex: 12330 entries, 0 to 12329\n",
      "Data columns (total 18 columns):\n",
      " #   Column                   Non-Null Count  Dtype  \n",
      "---  ------                   --------------  -----  \n",
      " 0   Administrative           12330 non-null  int64  \n",
      " 1   Administrative_Duration  12330 non-null  float64\n",
      " 2   Informational            12330 non-null  int64  \n",
      " 3   Informational_Duration   12330 non-null  float64\n",
      " 4   ProductRelated           12330 non-null  int64  \n",
      " 5   ProductRelated_Duration  12330 non-null  float64\n",
      " 6   BounceRates              12330 non-null  float64\n",
      " 7   ExitRates                12330 non-null  float64\n",
      " 8   PageValues               12330 non-null  float64\n",
      " 9   SpecialDay               12330 non-null  float64\n",
      " 10  Month                    12330 non-null  object \n",
      " 11  OperatingSystems         12330 non-null  int64  \n",
      " 12  Browser                  12330 non-null  int64  \n",
      " 13  Region                   12330 non-null  int64  \n",
      " 14  TrafficType              12330 non-null  int64  \n",
      " 15  VisitorType              12330 non-null  object \n",
      " 16  Weekend                  12330 non-null  bool   \n",
      " 17  Revenue                  12330 non-null  bool   \n",
      "dtypes: bool(2), float64(7), int64(7), object(2)\n",
      "memory usage: 1.5+ MB\n"
     ]
    }
   ],
   "source": [
    "df.info()"
   ]
  },
  {
   "cell_type": "code",
   "execution_count": 7,
   "metadata": {},
   "outputs": [
    {
     "data": {
      "text/plain": [
       "Index(['Administrative', 'Administrative_Duration', 'Informational',\n",
       "       'Informational_Duration', 'ProductRelated', 'ProductRelated_Duration',\n",
       "       'BounceRates', 'ExitRates', 'PageValues', 'SpecialDay', 'Month',\n",
       "       'OperatingSystems', 'Browser', 'Region', 'TrafficType', 'VisitorType',\n",
       "       'Weekend', 'Revenue'],\n",
       "      dtype='object')"
      ]
     },
     "execution_count": 7,
     "metadata": {},
     "output_type": "execute_result"
    }
   ],
   "source": [
    "df.columns"
   ]
  },
  {
   "cell_type": "markdown",
   "metadata": {},
   "source": [
    "### EDA"
   ]
  },
  {
   "cell_type": "markdown",
   "metadata": {},
   "source": [
    "Inspect how the months affect the spending intent of a user by looking at how the proportion of true and false changes over the months."
   ]
  },
  {
   "cell_type": "code",
   "execution_count": 8,
   "metadata": {},
   "outputs": [
    {
     "data": {
      "text/plain": [
       "May     3364\n",
       "Nov     2998\n",
       "Mar     1907\n",
       "Dec     1727\n",
       "Oct      549\n",
       "Sep      448\n",
       "Aug      433\n",
       "Jul      432\n",
       "June     288\n",
       "Feb      184\n",
       "Name: Month, dtype: int64"
      ]
     },
     "execution_count": 8,
     "metadata": {},
     "output_type": "execute_result"
    }
   ],
   "source": [
    "df['Month'].value_counts()"
   ]
  },
  {
   "cell_type": "code",
   "execution_count": 9,
   "metadata": {},
   "outputs": [
    {
     "data": {
      "text/html": [
       "<div>\n",
       "<style scoped>\n",
       "    .dataframe tbody tr th:only-of-type {\n",
       "        vertical-align: middle;\n",
       "    }\n",
       "\n",
       "    .dataframe tbody tr th {\n",
       "        vertical-align: top;\n",
       "    }\n",
       "\n",
       "    .dataframe thead th {\n",
       "        text-align: right;\n",
       "    }\n",
       "</style>\n",
       "<table border=\"1\" class=\"dataframe\">\n",
       "  <thead>\n",
       "    <tr style=\"text-align: right;\">\n",
       "      <th>Revenue</th>\n",
       "      <th>False</th>\n",
       "      <th>True</th>\n",
       "    </tr>\n",
       "    <tr>\n",
       "      <th>Month</th>\n",
       "      <th></th>\n",
       "      <th></th>\n",
       "    </tr>\n",
       "  </thead>\n",
       "  <tbody>\n",
       "    <tr>\n",
       "      <th>Aug</th>\n",
       "      <td>0.824480</td>\n",
       "      <td>0.175520</td>\n",
       "    </tr>\n",
       "    <tr>\n",
       "      <th>Dec</th>\n",
       "      <td>0.874928</td>\n",
       "      <td>0.125072</td>\n",
       "    </tr>\n",
       "    <tr>\n",
       "      <th>Feb</th>\n",
       "      <td>0.983696</td>\n",
       "      <td>0.016304</td>\n",
       "    </tr>\n",
       "    <tr>\n",
       "      <th>Jul</th>\n",
       "      <td>0.847222</td>\n",
       "      <td>0.152778</td>\n",
       "    </tr>\n",
       "    <tr>\n",
       "      <th>June</th>\n",
       "      <td>0.899306</td>\n",
       "      <td>0.100694</td>\n",
       "    </tr>\n",
       "    <tr>\n",
       "      <th>Mar</th>\n",
       "      <td>0.899318</td>\n",
       "      <td>0.100682</td>\n",
       "    </tr>\n",
       "    <tr>\n",
       "      <th>May</th>\n",
       "      <td>0.891498</td>\n",
       "      <td>0.108502</td>\n",
       "    </tr>\n",
       "    <tr>\n",
       "      <th>Nov</th>\n",
       "      <td>0.746498</td>\n",
       "      <td>0.253502</td>\n",
       "    </tr>\n",
       "    <tr>\n",
       "      <th>Oct</th>\n",
       "      <td>0.790528</td>\n",
       "      <td>0.209472</td>\n",
       "    </tr>\n",
       "    <tr>\n",
       "      <th>Sep</th>\n",
       "      <td>0.808036</td>\n",
       "      <td>0.191964</td>\n",
       "    </tr>\n",
       "  </tbody>\n",
       "</table>\n",
       "</div>"
      ],
      "text/plain": [
       "Revenue     False     True \n",
       "Month                      \n",
       "Aug      0.824480  0.175520\n",
       "Dec      0.874928  0.125072\n",
       "Feb      0.983696  0.016304\n",
       "Jul      0.847222  0.152778\n",
       "June     0.899306  0.100694\n",
       "Mar      0.899318  0.100682\n",
       "May      0.891498  0.108502\n",
       "Nov      0.746498  0.253502\n",
       "Oct      0.790528  0.209472\n",
       "Sep      0.808036  0.191964"
      ]
     },
     "execution_count": 9,
     "metadata": {},
     "output_type": "execute_result"
    }
   ],
   "source": [
    "pd.crosstab(df['Month'], df['Revenue'], normalize = 'index')"
   ]
  },
  {
   "cell_type": "markdown",
   "metadata": {},
   "source": [
    "Seeing that the proportions are uneven for the months we look into how special days affect the the tendency of a user to make a purchase."
   ]
  },
  {
   "cell_type": "code",
   "execution_count": 10,
   "metadata": {},
   "outputs": [
    {
     "data": {
      "text/plain": [
       "0.0    11079\n",
       "0.6      351\n",
       "0.8      325\n",
       "0.4      243\n",
       "0.2      178\n",
       "1.0      154\n",
       "Name: SpecialDay, dtype: int64"
      ]
     },
     "execution_count": 10,
     "metadata": {},
     "output_type": "execute_result"
    }
   ],
   "source": [
    "df['SpecialDay'].value_counts()"
   ]
  },
  {
   "cell_type": "code",
   "execution_count": 11,
   "metadata": {},
   "outputs": [
    {
     "data": {
      "text/html": [
       "<div>\n",
       "<style scoped>\n",
       "    .dataframe tbody tr th:only-of-type {\n",
       "        vertical-align: middle;\n",
       "    }\n",
       "\n",
       "    .dataframe tbody tr th {\n",
       "        vertical-align: top;\n",
       "    }\n",
       "\n",
       "    .dataframe thead th {\n",
       "        text-align: right;\n",
       "    }\n",
       "</style>\n",
       "<table border=\"1\" class=\"dataframe\">\n",
       "  <thead>\n",
       "    <tr style=\"text-align: right;\">\n",
       "      <th>Revenue</th>\n",
       "      <th>False</th>\n",
       "      <th>True</th>\n",
       "    </tr>\n",
       "    <tr>\n",
       "      <th>SpecialDay</th>\n",
       "      <th></th>\n",
       "      <th></th>\n",
       "    </tr>\n",
       "  </thead>\n",
       "  <tbody>\n",
       "    <tr>\n",
       "      <th>0.0</th>\n",
       "      <td>0.834732</td>\n",
       "      <td>0.165268</td>\n",
       "    </tr>\n",
       "    <tr>\n",
       "      <th>0.2</th>\n",
       "      <td>0.921348</td>\n",
       "      <td>0.078652</td>\n",
       "    </tr>\n",
       "    <tr>\n",
       "      <th>0.4</th>\n",
       "      <td>0.946502</td>\n",
       "      <td>0.053498</td>\n",
       "    </tr>\n",
       "    <tr>\n",
       "      <th>0.6</th>\n",
       "      <td>0.917379</td>\n",
       "      <td>0.082621</td>\n",
       "    </tr>\n",
       "    <tr>\n",
       "      <th>0.8</th>\n",
       "      <td>0.966154</td>\n",
       "      <td>0.033846</td>\n",
       "    </tr>\n",
       "    <tr>\n",
       "      <th>1.0</th>\n",
       "      <td>0.935065</td>\n",
       "      <td>0.064935</td>\n",
       "    </tr>\n",
       "  </tbody>\n",
       "</table>\n",
       "</div>"
      ],
      "text/plain": [
       "Revenue        False     True \n",
       "SpecialDay                    \n",
       "0.0         0.834732  0.165268\n",
       "0.2         0.921348  0.078652\n",
       "0.4         0.946502  0.053498\n",
       "0.6         0.917379  0.082621\n",
       "0.8         0.966154  0.033846\n",
       "1.0         0.935065  0.064935"
      ]
     },
     "execution_count": 11,
     "metadata": {},
     "output_type": "execute_result"
    }
   ],
   "source": [
    "pd.crosstab(df['SpecialDay'], df['Revenue'], normalize = 'index')"
   ]
  },
  {
   "cell_type": "code",
   "execution_count": 12,
   "metadata": {},
   "outputs": [
    {
     "data": {
      "text/html": [
       "<div>\n",
       "<style scoped>\n",
       "    .dataframe tbody tr th:only-of-type {\n",
       "        vertical-align: middle;\n",
       "    }\n",
       "\n",
       "    .dataframe tbody tr th {\n",
       "        vertical-align: top;\n",
       "    }\n",
       "\n",
       "    .dataframe thead th {\n",
       "        text-align: right;\n",
       "    }\n",
       "</style>\n",
       "<table border=\"1\" class=\"dataframe\">\n",
       "  <thead>\n",
       "    <tr style=\"text-align: right;\">\n",
       "      <th></th>\n",
       "      <th>SpecialDay</th>\n",
       "    </tr>\n",
       "    <tr>\n",
       "      <th>Month</th>\n",
       "      <th></th>\n",
       "    </tr>\n",
       "  </thead>\n",
       "  <tbody>\n",
       "    <tr>\n",
       "      <th>Aug</th>\n",
       "      <td>0.000000</td>\n",
       "    </tr>\n",
       "    <tr>\n",
       "      <th>Dec</th>\n",
       "      <td>0.000000</td>\n",
       "    </tr>\n",
       "    <tr>\n",
       "      <th>Feb</th>\n",
       "      <td>0.233696</td>\n",
       "    </tr>\n",
       "    <tr>\n",
       "      <th>Jul</th>\n",
       "      <td>0.000000</td>\n",
       "    </tr>\n",
       "    <tr>\n",
       "      <th>June</th>\n",
       "      <td>0.000000</td>\n",
       "    </tr>\n",
       "    <tr>\n",
       "      <th>Mar</th>\n",
       "      <td>0.000000</td>\n",
       "    </tr>\n",
       "    <tr>\n",
       "      <th>May</th>\n",
       "      <td>0.212366</td>\n",
       "    </tr>\n",
       "    <tr>\n",
       "      <th>Nov</th>\n",
       "      <td>0.000000</td>\n",
       "    </tr>\n",
       "    <tr>\n",
       "      <th>Oct</th>\n",
       "      <td>0.000000</td>\n",
       "    </tr>\n",
       "    <tr>\n",
       "      <th>Sep</th>\n",
       "      <td>0.000000</td>\n",
       "    </tr>\n",
       "  </tbody>\n",
       "</table>\n",
       "</div>"
      ],
      "text/plain": [
       "       SpecialDay\n",
       "Month            \n",
       "Aug      0.000000\n",
       "Dec      0.000000\n",
       "Feb      0.233696\n",
       "Jul      0.000000\n",
       "June     0.000000\n",
       "Mar      0.000000\n",
       "May      0.212366\n",
       "Nov      0.000000\n",
       "Oct      0.000000\n",
       "Sep      0.000000"
      ]
     },
     "execution_count": 12,
     "metadata": {},
     "output_type": "execute_result"
    }
   ],
   "source": [
    "SpecialDayXMonth = pd.pivot_table(df, values = 'SpecialDay', index = 'Month', aggfunc = np.mean)\n",
    "SpecialDayXMonth"
   ]
  },
  {
   "cell_type": "markdown",
   "metadata": {},
   "source": [
    "We will also look if sessions during weekends are more likely to end with a purchase"
   ]
  },
  {
   "cell_type": "code",
   "execution_count": 13,
   "metadata": {},
   "outputs": [
    {
     "data": {
      "text/html": [
       "<div>\n",
       "<style scoped>\n",
       "    .dataframe tbody tr th:only-of-type {\n",
       "        vertical-align: middle;\n",
       "    }\n",
       "\n",
       "    .dataframe tbody tr th {\n",
       "        vertical-align: top;\n",
       "    }\n",
       "\n",
       "    .dataframe thead th {\n",
       "        text-align: right;\n",
       "    }\n",
       "</style>\n",
       "<table border=\"1\" class=\"dataframe\">\n",
       "  <thead>\n",
       "    <tr style=\"text-align: right;\">\n",
       "      <th>Revenue</th>\n",
       "      <th>False</th>\n",
       "      <th>True</th>\n",
       "    </tr>\n",
       "    <tr>\n",
       "      <th>Weekend</th>\n",
       "      <th></th>\n",
       "      <th></th>\n",
       "    </tr>\n",
       "  </thead>\n",
       "  <tbody>\n",
       "    <tr>\n",
       "      <th>False</th>\n",
       "      <td>0.851089</td>\n",
       "      <td>0.148911</td>\n",
       "    </tr>\n",
       "    <tr>\n",
       "      <th>True</th>\n",
       "      <td>0.826011</td>\n",
       "      <td>0.173989</td>\n",
       "    </tr>\n",
       "  </tbody>\n",
       "</table>\n",
       "</div>"
      ],
      "text/plain": [
       "Revenue     False     True \n",
       "Weekend                    \n",
       "False    0.851089  0.148911\n",
       "True     0.826011  0.173989"
      ]
     },
     "execution_count": 13,
     "metadata": {},
     "output_type": "execute_result"
    }
   ],
   "source": [
    "pd.crosstab(df['Weekend'], df['Revenue'], normalize = 'index')"
   ]
  },
  {
   "cell_type": "markdown",
   "metadata": {},
   "source": [
    "Whether the type of visitor affects the proportions of buying."
   ]
  },
  {
   "cell_type": "code",
   "execution_count": 14,
   "metadata": {},
   "outputs": [
    {
     "data": {
      "text/plain": [
       "Returning_Visitor    10551\n",
       "New_Visitor           1694\n",
       "Other                   85\n",
       "Name: VisitorType, dtype: int64"
      ]
     },
     "execution_count": 14,
     "metadata": {},
     "output_type": "execute_result"
    }
   ],
   "source": [
    "df['VisitorType'].value_counts()"
   ]
  },
  {
   "cell_type": "code",
   "execution_count": 15,
   "metadata": {},
   "outputs": [
    {
     "data": {
      "text/html": [
       "<div>\n",
       "<style scoped>\n",
       "    .dataframe tbody tr th:only-of-type {\n",
       "        vertical-align: middle;\n",
       "    }\n",
       "\n",
       "    .dataframe tbody tr th {\n",
       "        vertical-align: top;\n",
       "    }\n",
       "\n",
       "    .dataframe thead th {\n",
       "        text-align: right;\n",
       "    }\n",
       "</style>\n",
       "<table border=\"1\" class=\"dataframe\">\n",
       "  <thead>\n",
       "    <tr style=\"text-align: right;\">\n",
       "      <th>Revenue</th>\n",
       "      <th>False</th>\n",
       "      <th>True</th>\n",
       "    </tr>\n",
       "    <tr>\n",
       "      <th>VisitorType</th>\n",
       "      <th></th>\n",
       "      <th></th>\n",
       "    </tr>\n",
       "  </thead>\n",
       "  <tbody>\n",
       "    <tr>\n",
       "      <th>New_Visitor</th>\n",
       "      <td>0.750885</td>\n",
       "      <td>0.249115</td>\n",
       "    </tr>\n",
       "    <tr>\n",
       "      <th>Other</th>\n",
       "      <td>0.811765</td>\n",
       "      <td>0.188235</td>\n",
       "    </tr>\n",
       "    <tr>\n",
       "      <th>Returning_Visitor</th>\n",
       "      <td>0.860677</td>\n",
       "      <td>0.139323</td>\n",
       "    </tr>\n",
       "  </tbody>\n",
       "</table>\n",
       "</div>"
      ],
      "text/plain": [
       "Revenue               False     True \n",
       "VisitorType                          \n",
       "New_Visitor        0.750885  0.249115\n",
       "Other              0.811765  0.188235\n",
       "Returning_Visitor  0.860677  0.139323"
      ]
     },
     "execution_count": 15,
     "metadata": {},
     "output_type": "execute_result"
    }
   ],
   "source": [
    "pd.crosstab(df['VisitorType'], df['Revenue'], normalize = 'index')"
   ]
  },
  {
   "cell_type": "markdown",
   "metadata": {},
   "source": [
    "### Experiments using combination of numeric and categorical features\n",
    "\n",
    "Experimenting with using both categorical and numeric features. Numeric features will be preprocessed using a standard scaler and categorical features will be encoded using one hot encoding. \n",
    "\n",
    "Functions were made to speed up experimentation.\n",
    "1. **NumCatPipe**\n",
    "    - Description\n",
    "        - Creates the needed X and y matrices depending on the given features to include. This function also prepares the pipelines composed of a pre-processor and a classifier.\n",
    "    - Parameters\n",
    "        - numeric_feaures : list of numeric features to include in the model and data\n",
    "        - categorical_features : list of categorical features to include in the model and data\n",
    "        - data : dataframe to use\n",
    "    - Return\n",
    "        - X and y matrix that includes the appropriate features\n",
    "        - Two different pipelines of pre-processing step + a specific model\n",
    "        \n",
    "2. **CrossValidationPipe**\n",
    "    - Description\n",
    "        - Pre-processes the X and y matrices using one-hot encoding and standard scaler so that this process will not be repeated during cross-validation. Prepares the classfiers as well.\n",
    "    - Parameters\n",
    "        - numeric_feaures : list of numeric features to include in the model and data\n",
    "        - categorical_features : list of categorical features to include in the model and data\n",
    "        - data : dataframe to use\n",
    "    - Return\n",
    "        - X_t and y - pre-processed feature values and the target vector\n",
    "        - mlp and knn classifiers with some parameters fixed.\n",
    "        \n",
    "3. **fit_report**\n",
    "    - Description\n",
    "        - Fits the model to the given data and prints out the classification report and confusion matrix.\n",
    "    - Parameters\n",
    "        - clf : pipeline including pre-processing and a classifier\n",
    "        - X : the feature set\n",
    "        - y : the target vector\n",
    "    - Return\n",
    "        - no return\n",
    "        \n",
    "4. **GridSearch_report**\n",
    "    - Description\n",
    "        - Perform gridsearch given a set of parameters to test and a model to use and reports the best performance (recall) and the parameters that were used.\n",
    "    - Parameters\n",
    "        - param_grid : set of parameters to use in grid search\n",
    "        - clf : model to use\n",
    "        - X : pre-processed feature values\n",
    "        - y : target vector\n",
    "    - Return\n",
    "        - Prints the best performance (recall) and the paramters used. "
   ]
  },
  {
   "cell_type": "code",
   "execution_count": 16,
   "metadata": {},
   "outputs": [],
   "source": [
    "def NumCatPipe(numeric_features, categorical_features, data):\n",
    "    \n",
    "    # get list of features to drop\n",
    "    features_set = set(data.columns)\n",
    "    features_to_drop = list(features_set - set(numeric_features) - set(categorical_features))\n",
    "    \n",
    "    # prepare X and y\n",
    "    X = data.drop(labels = features_to_drop, axis = 1)\n",
    "    y = data['Revenue'].replace({False : -1, True : 1})\n",
    "    \n",
    "    # prepare pipelines\n",
    "    numeric_transformer = Pipeline(steps = [('scaler', StandardScaler())])\n",
    "    categorical_transformer = Pipeline(steps = [('ohe', OneHotEncoder(handle_unknown='ignore'))])\n",
    "\n",
    "    preprocessor = ColumnTransformer(\n",
    "        transformers=[\n",
    "            ('num', numeric_transformer, numeric_features),\n",
    "            ('cat', categorical_transformer, categorical_features)])\n",
    "\n",
    "    knn = Pipeline(steps=[('preprocessor', preprocessor),\n",
    "                          ('classifier', KNeighborsClassifier())])\n",
    "\n",
    "    mlp = Pipeline(steps=[('preprocessor', preprocessor),\n",
    "                          ('classifier', MLPClassifier(activation = 'relu',\n",
    "                                                       hidden_layer_sizes = (5000,),\n",
    "                                                       max_iter = 1000, shuffle = True))])\n",
    "    \n",
    "    return X, y, knn, mlp"
   ]
  },
  {
   "cell_type": "code",
   "execution_count": 75,
   "metadata": {},
   "outputs": [],
   "source": [
    "def CrossValidationPipe(numeric_features, categorical_features, data):\n",
    "    \n",
    "    # get list of features to drop\n",
    "    features_set = set(data.columns)\n",
    "    features_to_drop = list(features_set - set(numeric_features) - set(categorical_features))\n",
    "    \n",
    "    # prepare X and y\n",
    "    X = data.drop(labels = features_to_drop, axis = 1)\n",
    "    y = data['Revenue'].replace({False : -1, True : 1})\n",
    "    \n",
    "    # prepare pipelines\n",
    "    numeric_transformer = Pipeline(steps = [('scaler', StandardScaler())])\n",
    "    categorical_transformer = Pipeline(steps = [('ohe', OneHotEncoder(handle_unknown='ignore'))])\n",
    "\n",
    "    preprocessor = ColumnTransformer(\n",
    "        transformers=[\n",
    "            ('num', numeric_transformer, numeric_features),\n",
    "            ('cat', categorical_transformer, categorical_features)])\n",
    "\n",
    "    X_t = preprocessor.fit_transform(X,y)\n",
    "    \n",
    "    knn = KNeighborsClassifier()\n",
    "    \n",
    "    mlp = MLPClassifier(max_iter = 1000, shuffle = True, activation = 'tanh')\n",
    "    \n",
    "    return X_t, y, knn, mlp"
   ]
  },
  {
   "cell_type": "code",
   "execution_count": 18,
   "metadata": {},
   "outputs": [],
   "source": [
    "def fit_report(clf, X, y):\n",
    "    X_train, X_test, y_train, y_test = train_test_split(X, y, test_size=0.2, random_state=42, shuffle=True)\n",
    "    \n",
    "    clf.fit(X_train, y_train)\n",
    "    y_pred = clf.predict(X_test)\n",
    "    print(confusion_matrix(y_test, y_pred))\n",
    "    print(classification_report(y_test,y_pred))"
   ]
  },
  {
   "cell_type": "code",
   "execution_count": 19,
   "metadata": {},
   "outputs": [],
   "source": [
    "## Grid Search\n",
    "def GridSearch_report(param_grid, clf, X, y):\n",
    "\n",
    "    grid_search = GridSearchCV(clf, param_grid, scoring = 'recall',cv=10)\n",
    "    grid_search.fit(X,y)\n",
    "    \n",
    "    print(\"Best average recall: %.2f\" % grid_search.best_score_)\n",
    "    print(\"Parameters : %s\" % grid_search.best_params_)"
   ]
  },
  {
   "cell_type": "code",
   "execution_count": 20,
   "metadata": {},
   "outputs": [],
   "source": [
    "knn_parameters = {'n_neighbors' : list(range(10,30)),\n",
    "                  'weights' : ('uniform', 'distance'),\n",
    "                  'p' : [1,2]\n",
    "                 }"
   ]
  },
  {
   "cell_type": "code",
   "execution_count": 21,
   "metadata": {},
   "outputs": [],
   "source": [
    "mlp_parameters = {'activation' : ('relu', 'tanh'),\n",
    "                  'hidden_layer_sizes' : [(75,),(75, 50, 25, 12, 5), (500,)]\n",
    "                 }"
   ]
  },
  {
   "cell_type": "code",
   "execution_count": 22,
   "metadata": {},
   "outputs": [],
   "source": [
    "X_t, y, knn, mlp = CrossValidationPipe(numeric_features=['Administrative', 'Administrative_Duration', 'Informational',\n",
    "                                                   'Informational_Duration', 'ProductRelated', 'ProductRelated_Duration',\n",
    "                                                   'BounceRates', 'ExitRates', 'PageValues', 'SpecialDay'],\n",
    "                               categorical_features=['Month','OperatingSystems', 'Browser', \n",
    "                                                     'Region', 'TrafficType', 'VisitorType',\n",
    "                                                     'Weekend'],\n",
    "                               data = df)"
   ]
  },
  {
   "cell_type": "markdown",
   "metadata": {},
   "source": [
    "### Using all features"
   ]
  },
  {
   "cell_type": "code",
   "execution_count": 23,
   "metadata": {},
   "outputs": [],
   "source": [
    "numeric_features = ['Administrative', 'Administrative_Duration', 'Informational',\n",
    "                    'Informational_Duration', 'ProductRelated', 'ProductRelated_Duration',\n",
    "                    'BounceRates', 'ExitRates', 'PageValues', 'SpecialDay']\n",
    "categorical_features = ['Month','OperatingSystems', 'Browser', \n",
    "                        'Region', 'TrafficType', 'VisitorType',\n",
    "                        'Weekend']"
   ]
  },
  {
   "cell_type": "code",
   "execution_count": 24,
   "metadata": {},
   "outputs": [],
   "source": [
    "# Data and model preparation\n",
    "X, y, knn, mlp = NumCatPipe(numeric_features=numeric_features,\n",
    "                               categorical_features=categorical_features,\n",
    "                               data = df)"
   ]
  },
  {
   "cell_type": "code",
   "execution_count": 25,
   "metadata": {},
   "outputs": [
    {
     "name": "stdout",
     "output_type": "stream",
     "text": [
      "[[1990   65]\n",
      " [ 259  152]]\n",
      "              precision    recall  f1-score   support\n",
      "\n",
      "          -1       0.88      0.97      0.92      2055\n",
      "           1       0.70      0.37      0.48       411\n",
      "\n",
      "    accuracy                           0.87      2466\n",
      "   macro avg       0.79      0.67      0.70      2466\n",
      "weighted avg       0.85      0.87      0.85      2466\n",
      "\n"
     ]
    }
   ],
   "source": [
    "# KNN\n",
    "fit_report(knn, X, y)"
   ]
  },
  {
   "cell_type": "code",
   "execution_count": 26,
   "metadata": {},
   "outputs": [
    {
     "name": "stdout",
     "output_type": "stream",
     "text": [
      "[[1918  137]\n",
      " [ 170  241]]\n",
      "              precision    recall  f1-score   support\n",
      "\n",
      "          -1       0.92      0.93      0.93      2055\n",
      "           1       0.64      0.59      0.61       411\n",
      "\n",
      "    accuracy                           0.88      2466\n",
      "   macro avg       0.78      0.76      0.77      2466\n",
      "weighted avg       0.87      0.88      0.87      2466\n",
      "\n"
     ]
    }
   ],
   "source": [
    "# MLP\n",
    "fit_report(mlp, X, y)"
   ]
  },
  {
   "cell_type": "code",
   "execution_count": 27,
   "metadata": {},
   "outputs": [],
   "source": [
    "X_t, y, knn, mlp = CrossValidationPipe(numeric_features=numeric_features,\n",
    "                                       categorical_features=categorical_features,\n",
    "                                       data = df)"
   ]
  },
  {
   "cell_type": "code",
   "execution_count": 28,
   "metadata": {},
   "outputs": [
    {
     "name": "stdout",
     "output_type": "stream",
     "text": [
      "Best average recall: 0.35\n",
      "Parameters : {'n_neighbors': 10, 'p': 2, 'weights': 'distance'}\n"
     ]
    }
   ],
   "source": [
    "# KNN optimization\n",
    "GridSearch_report(knn_parameters, knn, X_t, y)"
   ]
  },
  {
   "cell_type": "code",
   "execution_count": 29,
   "metadata": {
    "scrolled": true
   },
   "outputs": [
    {
     "name": "stdout",
     "output_type": "stream",
     "text": [
      "Best average recall: 0.50\n",
      "Parameters : {'activation': 'tanh', 'hidden_layer_sizes': (500,)}\n"
     ]
    }
   ],
   "source": [
    "# MLP optimization\n",
    "GridSearch_report(mlp_parameters, mlp, X_t, y)"
   ]
  },
  {
   "cell_type": "markdown",
   "metadata": {},
   "source": [
    "### Using all numeric features only"
   ]
  },
  {
   "cell_type": "code",
   "execution_count": 30,
   "metadata": {},
   "outputs": [],
   "source": [
    "numeric_features = ['Administrative', 'Administrative_Duration', 'Informational',\n",
    "                    'Informational_Duration', 'ProductRelated', 'ProductRelated_Duration',\n",
    "                    'BounceRates', 'ExitRates', 'PageValues', 'SpecialDay']\n",
    "categorical_features = []"
   ]
  },
  {
   "cell_type": "code",
   "execution_count": 31,
   "metadata": {},
   "outputs": [],
   "source": [
    "# Data and model preparation\n",
    "X, y, knn, mlp = NumCatPipe(numeric_features=numeric_features,\n",
    "                                 categorical_features=categorical_features,\n",
    "                                 data = df)"
   ]
  },
  {
   "cell_type": "code",
   "execution_count": 32,
   "metadata": {},
   "outputs": [
    {
     "name": "stdout",
     "output_type": "stream",
     "text": [
      "[[1972   83]\n",
      " [ 210  201]]\n",
      "              precision    recall  f1-score   support\n",
      "\n",
      "          -1       0.90      0.96      0.93      2055\n",
      "           1       0.71      0.49      0.58       411\n",
      "\n",
      "    accuracy                           0.88      2466\n",
      "   macro avg       0.81      0.72      0.75      2466\n",
      "weighted avg       0.87      0.88      0.87      2466\n",
      "\n"
     ]
    }
   ],
   "source": [
    "# KNN\n",
    "fit_report(knn, X, y)"
   ]
  },
  {
   "cell_type": "code",
   "execution_count": 33,
   "metadata": {},
   "outputs": [
    {
     "name": "stdout",
     "output_type": "stream",
     "text": [
      "[[1946  109]\n",
      " [ 172  239]]\n",
      "              precision    recall  f1-score   support\n",
      "\n",
      "          -1       0.92      0.95      0.93      2055\n",
      "           1       0.69      0.58      0.63       411\n",
      "\n",
      "    accuracy                           0.89      2466\n",
      "   macro avg       0.80      0.76      0.78      2466\n",
      "weighted avg       0.88      0.89      0.88      2466\n",
      "\n"
     ]
    }
   ],
   "source": [
    "# MLP\n",
    "fit_report(mlp, X, y)"
   ]
  },
  {
   "cell_type": "code",
   "execution_count": 34,
   "metadata": {},
   "outputs": [],
   "source": [
    "X_t, y, knn, mlp = CrossValidationPipe(numeric_features=numeric_features,\n",
    "                                       categorical_features=categorical_features,\n",
    "                                       data = df)"
   ]
  },
  {
   "cell_type": "code",
   "execution_count": 35,
   "metadata": {},
   "outputs": [
    {
     "name": "stdout",
     "output_type": "stream",
     "text": [
      "Best average recall: 0.48\n",
      "Parameters : {'n_neighbors': 10, 'p': 2, 'weights': 'distance'}\n"
     ]
    }
   ],
   "source": [
    "# KNN optimization\n",
    "GridSearch_report(knn_parameters, knn, X_t, y)"
   ]
  },
  {
   "cell_type": "code",
   "execution_count": 36,
   "metadata": {},
   "outputs": [
    {
     "name": "stdout",
     "output_type": "stream",
     "text": [
      "Best average recall: 0.57\n",
      "Parameters : {'activation': 'relu', 'hidden_layer_sizes': (500,)}\n"
     ]
    }
   ],
   "source": [
    "# MLP optimization\n",
    "GridSearch_report(mlp_parameters, mlp, X_t, y)"
   ]
  },
  {
   "cell_type": "markdown",
   "metadata": {},
   "source": [
    "### Using all categorical features"
   ]
  },
  {
   "cell_type": "code",
   "execution_count": 37,
   "metadata": {},
   "outputs": [],
   "source": [
    "numeric_features = []\n",
    "categorical_features = ['Month','OperatingSystems', 'Browser', \n",
    "                        'Region', 'TrafficType', 'VisitorType',\n",
    "                        'Weekend']"
   ]
  },
  {
   "cell_type": "code",
   "execution_count": 39,
   "metadata": {},
   "outputs": [],
   "source": [
    "# Data and model preparation\n",
    "X, y, knn, mlp = NumCatPipe(numeric_features=numeric_features,\n",
    "                                 categorical_features=categorical_features,\n",
    "                                 data = df)"
   ]
  },
  {
   "cell_type": "code",
   "execution_count": 40,
   "metadata": {},
   "outputs": [
    {
     "name": "stdout",
     "output_type": "stream",
     "text": [
      "[[1957   98]\n",
      " [ 358   53]]\n",
      "              precision    recall  f1-score   support\n",
      "\n",
      "          -1       0.85      0.95      0.90      2055\n",
      "           1       0.35      0.13      0.19       411\n",
      "\n",
      "    accuracy                           0.82      2466\n",
      "   macro avg       0.60      0.54      0.54      2466\n",
      "weighted avg       0.76      0.82      0.78      2466\n",
      "\n"
     ]
    }
   ],
   "source": [
    "# KNN\n",
    "fit_report(knn, X, y)"
   ]
  },
  {
   "cell_type": "code",
   "execution_count": 41,
   "metadata": {},
   "outputs": [
    {
     "name": "stdout",
     "output_type": "stream",
     "text": [
      "[[1960   95]\n",
      " [ 365   46]]\n",
      "              precision    recall  f1-score   support\n",
      "\n",
      "          -1       0.84      0.95      0.89      2055\n",
      "           1       0.33      0.11      0.17       411\n",
      "\n",
      "    accuracy                           0.81      2466\n",
      "   macro avg       0.58      0.53      0.53      2466\n",
      "weighted avg       0.76      0.81      0.77      2466\n",
      "\n"
     ]
    }
   ],
   "source": [
    "# MLP\n",
    "fit_report(mlp, X, y)"
   ]
  },
  {
   "cell_type": "code",
   "execution_count": 42,
   "metadata": {},
   "outputs": [],
   "source": [
    "X_t, y, knn, mlp = CrossValidationPipe(numeric_features=numeric_features,\n",
    "                                       categorical_features=categorical_features,\n",
    "                                       data = df)"
   ]
  },
  {
   "cell_type": "code",
   "execution_count": 43,
   "metadata": {},
   "outputs": [
    {
     "name": "stdout",
     "output_type": "stream",
     "text": [
      "Best average recall: 0.07\n",
      "Parameters : {'n_neighbors': 13, 'p': 1, 'weights': 'distance'}\n"
     ]
    }
   ],
   "source": [
    "# KNN optimization\n",
    "GridSearch_report(knn_parameters, knn, X_t, y)"
   ]
  },
  {
   "cell_type": "code",
   "execution_count": 44,
   "metadata": {},
   "outputs": [
    {
     "name": "stdout",
     "output_type": "stream",
     "text": [
      "Best average recall: 0.10\n",
      "Parameters : {'activation': 'relu', 'hidden_layer_sizes': (500,)}\n"
     ]
    }
   ],
   "source": [
    "# MLP optimization\n",
    "GridSearch_report(mlp_parameters, mlp, X_t, y)"
   ]
  },
  {
   "cell_type": "markdown",
   "metadata": {},
   "source": [
    "### Using google analytics metrics only"
   ]
  },
  {
   "cell_type": "code",
   "execution_count": 45,
   "metadata": {},
   "outputs": [],
   "source": [
    "numeric_features = ['BounceRates', 'ExitRates', 'PageValues', 'SpecialDay']\n",
    "categorical_features = []"
   ]
  },
  {
   "cell_type": "code",
   "execution_count": 46,
   "metadata": {},
   "outputs": [],
   "source": [
    "# Data and model preparation\n",
    "X, y, knn, mlp = NumCatPipe(numeric_features=numeric_features,\n",
    "                                 categorical_features=categorical_features,\n",
    "                                 data = df)"
   ]
  },
  {
   "cell_type": "code",
   "execution_count": 47,
   "metadata": {},
   "outputs": [
    {
     "name": "stdout",
     "output_type": "stream",
     "text": [
      "[[1942  113]\n",
      " [ 186  225]]\n",
      "              precision    recall  f1-score   support\n",
      "\n",
      "          -1       0.91      0.95      0.93      2055\n",
      "           1       0.67      0.55      0.60       411\n",
      "\n",
      "    accuracy                           0.88      2466\n",
      "   macro avg       0.79      0.75      0.76      2466\n",
      "weighted avg       0.87      0.88      0.87      2466\n",
      "\n"
     ]
    }
   ],
   "source": [
    "# KNN\n",
    "fit_report(knn, X, y)"
   ]
  },
  {
   "cell_type": "code",
   "execution_count": 48,
   "metadata": {},
   "outputs": [
    {
     "name": "stdout",
     "output_type": "stream",
     "text": [
      "[[1955  100]\n",
      " [ 190  221]]\n",
      "              precision    recall  f1-score   support\n",
      "\n",
      "          -1       0.91      0.95      0.93      2055\n",
      "           1       0.69      0.54      0.60       411\n",
      "\n",
      "    accuracy                           0.88      2466\n",
      "   macro avg       0.80      0.74      0.77      2466\n",
      "weighted avg       0.87      0.88      0.88      2466\n",
      "\n"
     ]
    }
   ],
   "source": [
    "# MLP\n",
    "fit_report(mlp, X, y)"
   ]
  },
  {
   "cell_type": "code",
   "execution_count": 49,
   "metadata": {},
   "outputs": [],
   "source": [
    "X_t, y, knn, mlp = CrossValidationPipe(numeric_features=numeric_features,\n",
    "                                       categorical_features=categorical_features,\n",
    "                                       data = df)"
   ]
  },
  {
   "cell_type": "code",
   "execution_count": 50,
   "metadata": {},
   "outputs": [
    {
     "name": "stdout",
     "output_type": "stream",
     "text": [
      "Best average recall: 0.55\n",
      "Parameters : {'n_neighbors': 13, 'p': 1, 'weights': 'uniform'}\n"
     ]
    }
   ],
   "source": [
    "# KNN optimization\n",
    "GridSearch_report(knn_parameters, knn, X_t, y)"
   ]
  },
  {
   "cell_type": "code",
   "execution_count": 51,
   "metadata": {},
   "outputs": [
    {
     "name": "stdout",
     "output_type": "stream",
     "text": [
      "Best average recall: 0.60\n",
      "Parameters : {'activation': 'tanh', 'hidden_layer_sizes': (500,)}\n"
     ]
    }
   ],
   "source": [
    "# MLP optimization\n",
    "GridSearch_report(mlp_parameters, mlp, X_t, y)"
   ]
  },
  {
   "cell_type": "markdown",
   "metadata": {},
   "source": [
    "### Using google analytics and page duration information"
   ]
  },
  {
   "cell_type": "code",
   "execution_count": 60,
   "metadata": {},
   "outputs": [],
   "source": [
    "numeric_features = ['Administrative_Duration', 'Informational_Duration', 'ProductRelated_Duration',\n",
    "                    'BounceRates', 'ExitRates', 'PageValues', 'SpecialDay']\n",
    "categorical_features = []"
   ]
  },
  {
   "cell_type": "code",
   "execution_count": 61,
   "metadata": {},
   "outputs": [],
   "source": [
    "# Data and model preparation\n",
    "X, y, knn, mlp = NumCatPipe(numeric_features=numeric_features,\n",
    "                            categorical_features=categorical_features,\n",
    "                            data = df)"
   ]
  },
  {
   "cell_type": "code",
   "execution_count": 54,
   "metadata": {},
   "outputs": [
    {
     "name": "stdout",
     "output_type": "stream",
     "text": [
      "[[1945  110]\n",
      " [ 199  212]]\n",
      "              precision    recall  f1-score   support\n",
      "\n",
      "          -1       0.91      0.95      0.93      2055\n",
      "           1       0.66      0.52      0.58       411\n",
      "\n",
      "    accuracy                           0.87      2466\n",
      "   macro avg       0.78      0.73      0.75      2466\n",
      "weighted avg       0.87      0.87      0.87      2466\n",
      "\n"
     ]
    }
   ],
   "source": [
    "# KNN\n",
    "fit_report(knn, X, y)"
   ]
  },
  {
   "cell_type": "code",
   "execution_count": 55,
   "metadata": {},
   "outputs": [
    {
     "name": "stdout",
     "output_type": "stream",
     "text": [
      "[[1969   86]\n",
      " [ 186  225]]\n",
      "              precision    recall  f1-score   support\n",
      "\n",
      "          -1       0.91      0.96      0.94      2055\n",
      "           1       0.72      0.55      0.62       411\n",
      "\n",
      "    accuracy                           0.89      2466\n",
      "   macro avg       0.82      0.75      0.78      2466\n",
      "weighted avg       0.88      0.89      0.88      2466\n",
      "\n"
     ]
    }
   ],
   "source": [
    "# MLP\n",
    "fit_report(mlp, X, y)"
   ]
  },
  {
   "cell_type": "code",
   "execution_count": 56,
   "metadata": {},
   "outputs": [],
   "source": [
    "X_t, y, knn, mlp = CrossValidationPipe(numeric_features=numeric_features,\n",
    "                                       categorical_features=categorical_features,\n",
    "                                       data = df)"
   ]
  },
  {
   "cell_type": "code",
   "execution_count": 57,
   "metadata": {},
   "outputs": [
    {
     "name": "stdout",
     "output_type": "stream",
     "text": [
      "Best average recall: 0.53\n",
      "Parameters : {'n_neighbors': 10, 'p': 2, 'weights': 'distance'}\n"
     ]
    }
   ],
   "source": [
    "# KNN optimization\n",
    "GridSearch_report(knn_parameters, knn, X_t, y)"
   ]
  },
  {
   "cell_type": "code",
   "execution_count": 59,
   "metadata": {
    "scrolled": true
   },
   "outputs": [
    {
     "name": "stdout",
     "output_type": "stream",
     "text": [
      "Best average recall: 0.57\n",
      "Parameters : {'activation': 'tanh', 'hidden_layer_sizes': (500,)}\n"
     ]
    }
   ],
   "source": [
    "# MLP optimization\n",
    "GridSearch_report(mlp_parameters, mlp, X_t, y)"
   ]
  },
  {
   "cell_type": "markdown",
   "metadata": {},
   "source": [
    "### Using google analytics and categorical information"
   ]
  },
  {
   "cell_type": "code",
   "execution_count": 62,
   "metadata": {},
   "outputs": [],
   "source": [
    "numeric_features = ['BounceRates', 'ExitRates', 'PageValues', 'SpecialDay']\n",
    "categorical_features = ['Month','OperatingSystems', 'Browser', \n",
    "                        'Region', 'TrafficType', 'VisitorType',\n",
    "                        'Weekend']"
   ]
  },
  {
   "cell_type": "code",
   "execution_count": 63,
   "metadata": {},
   "outputs": [],
   "source": [
    "# Data and model preparation\n",
    "X, y, knn, mlp = NumCatPipe(numeric_features=numeric_features,\n",
    "                            categorical_features=categorical_features,\n",
    "                            data = df)"
   ]
  },
  {
   "cell_type": "code",
   "execution_count": 64,
   "metadata": {},
   "outputs": [
    {
     "name": "stdout",
     "output_type": "stream",
     "text": [
      "[[1983   72]\n",
      " [ 253  158]]\n",
      "              precision    recall  f1-score   support\n",
      "\n",
      "          -1       0.89      0.96      0.92      2055\n",
      "           1       0.69      0.38      0.49       411\n",
      "\n",
      "    accuracy                           0.87      2466\n",
      "   macro avg       0.79      0.67      0.71      2466\n",
      "weighted avg       0.85      0.87      0.85      2466\n",
      "\n"
     ]
    }
   ],
   "source": [
    "# KNN\n",
    "fit_report(knn, X, y)"
   ]
  },
  {
   "cell_type": "code",
   "execution_count": 65,
   "metadata": {},
   "outputs": [
    {
     "name": "stdout",
     "output_type": "stream",
     "text": [
      "[[1913  142]\n",
      " [ 182  229]]\n",
      "              precision    recall  f1-score   support\n",
      "\n",
      "          -1       0.91      0.93      0.92      2055\n",
      "           1       0.62      0.56      0.59       411\n",
      "\n",
      "    accuracy                           0.87      2466\n",
      "   macro avg       0.77      0.74      0.75      2466\n",
      "weighted avg       0.86      0.87      0.87      2466\n",
      "\n"
     ]
    }
   ],
   "source": [
    "# MLP\n",
    "fit_report(mlp, X, y)"
   ]
  },
  {
   "cell_type": "code",
   "execution_count": 67,
   "metadata": {},
   "outputs": [],
   "source": [
    "X_t, y, knn, mlp = CrossValidationPipe(numeric_features=numeric_features,\n",
    "                                       categorical_features=categorical_features,\n",
    "                                       data = df)"
   ]
  },
  {
   "cell_type": "code",
   "execution_count": 68,
   "metadata": {},
   "outputs": [
    {
     "name": "stdout",
     "output_type": "stream",
     "text": [
      "Best average recall: 0.38\n",
      "Parameters : {'n_neighbors': 10, 'p': 2, 'weights': 'distance'}\n"
     ]
    }
   ],
   "source": [
    "# KNN optimization\n",
    "GridSearch_report(knn_parameters, knn, X_t, y)"
   ]
  },
  {
   "cell_type": "code",
   "execution_count": 69,
   "metadata": {
    "scrolled": true
   },
   "outputs": [
    {
     "name": "stdout",
     "output_type": "stream",
     "text": [
      "Best average recall: 0.49\n",
      "Parameters : {'activation': 'relu', 'hidden_layer_sizes': (75,)}\n"
     ]
    }
   ],
   "source": [
    "# MLP optimization\n",
    "GridSearch_report(mlp_parameters, mlp, X_t, y)"
   ]
  },
  {
   "cell_type": "markdown",
   "metadata": {},
   "source": [
    "### Improving the best model"
   ]
  },
  {
   "cell_type": "code",
   "execution_count": 76,
   "metadata": {},
   "outputs": [],
   "source": [
    "mlp_parameters2 = {'hidden_layer_sizes' : [(500,), (1000,), (2000,)]}"
   ]
  },
  {
   "cell_type": "code",
   "execution_count": 77,
   "metadata": {},
   "outputs": [],
   "source": [
    "numeric_features = ['BounceRates', 'ExitRates', 'PageValues', 'SpecialDay']\n",
    "categorical_features = []"
   ]
  },
  {
   "cell_type": "code",
   "execution_count": 78,
   "metadata": {},
   "outputs": [],
   "source": [
    "X_t, y, knn, mlp = CrossValidationPipe(numeric_features=numeric_features,\n",
    "                                       categorical_features=categorical_features,\n",
    "                                       data = df)"
   ]
  },
  {
   "cell_type": "code",
   "execution_count": 79,
   "metadata": {},
   "outputs": [
    {
     "name": "stdout",
     "output_type": "stream",
     "text": [
      "Best average recall: 0.60\n",
      "Parameters : {'hidden_layer_sizes': (1000,)}\n"
     ]
    }
   ],
   "source": [
    "# MLP optimization\n",
    "GridSearch_report(mlp_parameters2, mlp, X_t, y)"
   ]
  },
  {
   "cell_type": "markdown",
   "metadata": {},
   "source": [
    "#### Add number of webpages visited as feature"
   ]
  },
  {
   "cell_type": "code",
   "execution_count": 80,
   "metadata": {},
   "outputs": [],
   "source": [
    "numeric_features = ['Administrative', 'Informational', 'ProductRelated', \n",
    "                    'BounceRates', 'ExitRates', 'PageValues', 'SpecialDay']\n",
    "categorical_features = []"
   ]
  },
  {
   "cell_type": "code",
   "execution_count": 81,
   "metadata": {},
   "outputs": [],
   "source": [
    "X_t, y, knn, mlp = CrossValidationPipe(numeric_features=numeric_features,\n",
    "                                       categorical_features=categorical_features,\n",
    "                                       data = df)"
   ]
  },
  {
   "cell_type": "code",
   "execution_count": 82,
   "metadata": {},
   "outputs": [
    {
     "name": "stdout",
     "output_type": "stream",
     "text": [
      "Best average recall: 0.57\n",
      "Parameters : {'hidden_layer_sizes': (2000,)}\n"
     ]
    }
   ],
   "source": [
    "# MLP optimization\n",
    "GridSearch_report(mlp_parameters2, mlp, X_t, y)"
   ]
  },
  {
   "cell_type": "markdown",
   "metadata": {},
   "source": [
    "## Visualization of results"
   ]
  },
  {
   "cell_type": "code",
   "execution_count": 18,
   "metadata": {},
   "outputs": [],
   "source": [
    "resDict = {\n",
    "    '[Model] Features': ['[KNN] C+N','[MLP] C+N','[KNN] N','[MLP] N','[KNN] C', '[MLP] C',\n",
    "                      '[KNN] GA','[MLP] GA','[KNN] GA+P','[MLP] GA+P','[KNN] GA+C', '[MLP] GA+C'],\n",
    "    'Average Recall' : [0.35,0.50,0.48,0.57,0.07,0.10,0.55,0.60,0.53,0.57,0.38,0.49]\n",
    "}"
   ]
  },
  {
   "cell_type": "code",
   "execution_count": 19,
   "metadata": {},
   "outputs": [],
   "source": [
    "res = pd.DataFrame(resDict)"
   ]
  },
  {
   "cell_type": "code",
   "execution_count": 20,
   "metadata": {},
   "outputs": [
    {
     "data": {
      "text/html": [
       "<div>\n",
       "<style scoped>\n",
       "    .dataframe tbody tr th:only-of-type {\n",
       "        vertical-align: middle;\n",
       "    }\n",
       "\n",
       "    .dataframe tbody tr th {\n",
       "        vertical-align: top;\n",
       "    }\n",
       "\n",
       "    .dataframe thead th {\n",
       "        text-align: right;\n",
       "    }\n",
       "</style>\n",
       "<table border=\"1\" class=\"dataframe\">\n",
       "  <thead>\n",
       "    <tr style=\"text-align: right;\">\n",
       "      <th></th>\n",
       "      <th>[Model] Features</th>\n",
       "      <th>Average Recall</th>\n",
       "    </tr>\n",
       "  </thead>\n",
       "  <tbody>\n",
       "    <tr>\n",
       "      <th>0</th>\n",
       "      <td>[KNN] C+N</td>\n",
       "      <td>0.35</td>\n",
       "    </tr>\n",
       "    <tr>\n",
       "      <th>1</th>\n",
       "      <td>[MLP] C+N</td>\n",
       "      <td>0.50</td>\n",
       "    </tr>\n",
       "    <tr>\n",
       "      <th>2</th>\n",
       "      <td>[KNN] N</td>\n",
       "      <td>0.48</td>\n",
       "    </tr>\n",
       "    <tr>\n",
       "      <th>3</th>\n",
       "      <td>[MLP] N</td>\n",
       "      <td>0.57</td>\n",
       "    </tr>\n",
       "    <tr>\n",
       "      <th>4</th>\n",
       "      <td>[KNN] C</td>\n",
       "      <td>0.07</td>\n",
       "    </tr>\n",
       "  </tbody>\n",
       "</table>\n",
       "</div>"
      ],
      "text/plain": [
       "  [Model] Features  Average Recall\n",
       "0        [KNN] C+N            0.35\n",
       "1        [MLP] C+N            0.50\n",
       "2          [KNN] N            0.48\n",
       "3          [MLP] N            0.57\n",
       "4          [KNN] C            0.07"
      ]
     },
     "execution_count": 20,
     "metadata": {},
     "output_type": "execute_result"
    }
   ],
   "source": [
    "res.head()"
   ]
  },
  {
   "cell_type": "code",
   "execution_count": 32,
   "metadata": {},
   "outputs": [
    {
     "data": {
      "image/png": "[encoded data removed]",
      "text/plain": [
       "<Figure size 576x720 with 1 Axes>"
      ]
     },
     "metadata": {},
     "output_type": "display_data"
    }
   ],
   "source": [
    "sns.set(style=\"whitegrid\")\n",
    "\n",
    "# Initialize the matplotlib figure\n",
    "f, ax = plt.subplots(figsize=(8, 10))\n",
    "\n",
    "font_title = {'family': 'serif',\n",
    "        'color':  'Black',\n",
    "        'weight': 'normal',\n",
    "        'size': 18,\n",
    "        }\n",
    "\n",
    "ax.set_title(\"Experimentation Results\", fontdict = font_title, pad =10)\n",
    "\n",
    "sns.set_color_codes(\"muted\")\n",
    "sns.barplot(x=\"Average Recall\", y=\"[Model] Features\", \n",
    "            data=res.sort_values(by = 'Average Recall', ascending = False),\n",
    "            color=\"b\")\n",
    "\n",
    "\n",
    "\n",
    "plt.show()"
   ]
  },
  {
   "cell_type": "markdown",
   "metadata": {},
   "source": [
    "# Code dump"
   ]
  },
  {
   "cell_type": "code",
   "execution_count": null,
   "metadata": {},
   "outputs": [],
   "source": [
    "X_train, X_test, y_train, y_test = train_test_split(X, y, test_size=0.2, random_state=42)"
   ]
  },
  {
   "cell_type": "code",
   "execution_count": null,
   "metadata": {},
   "outputs": [],
   "source": [
    "X = df.drop(labels = ['Revenue'], axis = 1)\n",
    "y = df['Revenue'].replace({False : -1, True : 1})"
   ]
  },
  {
   "cell_type": "code",
   "execution_count": null,
   "metadata": {},
   "outputs": [],
   "source": [
    "df.columns"
   ]
  },
  {
   "cell_type": "code",
   "execution_count": null,
   "metadata": {},
   "outputs": [],
   "source": [
    "# Tranformer pipeline\n",
    "numeric_features = ['Administrative', 'Administrative_Duration', 'Informational',\n",
    "       'Informational_Duration', 'ProductRelated', 'ProductRelated_Duration',\n",
    "       'BounceRates', 'ExitRates', 'PageValues', 'SpecialDay']\n",
    "categorical_features = ['Month','OperatingSystems', 'Browser', \n",
    "                        'Region', 'TrafficType', 'VisitorType',\n",
    "                       'Weekend']\n",
    "\n",
    "numeric_transformer = Pipeline(steps = [('scaler', StandardScaler())])\n",
    "categorical_transformer = Pipeline(steps = [('ohe', OneHotEncoder(handle_unknown='ignore'))])\n",
    "\n",
    "preprocessor = ColumnTransformer(\n",
    "    transformers=[\n",
    "        ('num', numeric_transformer, numeric_features),\n",
    "        ('cat', categorical_transformer, categorical_features)])\n",
    "\n",
    "preprocessorpipe= Pipeline(steps=[('preprocessor', preprocessor)])\n",
    "    \n",
    "knn = Pipeline(steps=[('preprocessor', preprocessor),\n",
    "                      ('classifier', KNeighborsClassifier())])\n",
    "\n",
    "mlp = Pipeline(steps=[('preprocessor', preprocessor),\n",
    "                      ('classifier', MLPClassifier(activation = 'tanh',\n",
    "                                                   hidden_layer_sizes = (100,),\n",
    "                                                   max_iter = 1000, shuffle = True))])\n",
    "\n",
    "svc = Pipeline(steps=[('preprocessor', preprocessor),\n",
    "                      ('classifier', SVC())])"
   ]
  },
  {
   "cell_type": "code",
   "execution_count": null,
   "metadata": {},
   "outputs": [],
   "source": [
    "X_t = preprocessorpipe.fit_transform(X,y)"
   ]
  },
  {
   "cell_type": "code",
   "execution_count": null,
   "metadata": {},
   "outputs": [],
   "source": [
    "knn = KNeighborsClassifier()"
   ]
  },
  {
   "cell_type": "code",
   "execution_count": null,
   "metadata": {},
   "outputs": [],
   "source": [
    "X_train, X_test, y_train, y_test = train_test_split(X_t, y, test_size=0.2, random_state=42)"
   ]
  },
  {
   "cell_type": "code",
   "execution_count": null,
   "metadata": {},
   "outputs": [],
   "source": [
    "#knn = KNeighborsClassifier()\n",
    "knn.fit(X_train, y_train)\n",
    "y_pred = knn.predict(X_test)\n",
    "print(confusion_matrix(y_test, y_pred))\n",
    "print(classification_report(y_test,y_pred))"
   ]
  },
  {
   "cell_type": "code",
   "execution_count": null,
   "metadata": {},
   "outputs": [],
   "source": [
    "mlp.fit(X_train, y_train)\n",
    "y_pred = mlp.predict(X_test)\n",
    "print(confusion_matrix(y_test, y_pred))\n",
    "print(classification_report(y_test,y_pred))"
   ]
  },
  {
   "cell_type": "code",
   "execution_count": null,
   "metadata": {},
   "outputs": [],
   "source": [
    "svc.fit(X_train, y_train)\n",
    "y_pred = svc.predict(X_test)\n",
    "print(confusion_matrix(y_test, y_pred))\n",
    "print(classification_report(y_test,y_pred))"
   ]
  },
  {
   "cell_type": "code",
   "execution_count": null,
   "metadata": {},
   "outputs": [],
   "source": [
    "## Grid Search\n",
    "knn_param_grid = {\n",
    "    'classifier__n_neighbors' : list(range(10,12)),\n",
    "    'classifier__weights' : ('distance', 'uniform')\n",
    "}\n",
    "\n",
    "grid_search = GridSearchCV(knn, knn_param_grid, scoring = 'recall',cv=10)\n",
    "grid_search.fit(X,y)\n",
    "resKNN = pd.DataFrame(grid_search.cv_results_)\n",
    "resKNN.sort_values(by = 'rank_test_score').head(10)"
   ]
  },
  {
   "cell_type": "code",
   "execution_count": null,
   "metadata": {},
   "outputs": [],
   "source": [
    "clf = grid_search.best_estimator_"
   ]
  },
  {
   "cell_type": "code",
   "execution_count": null,
   "metadata": {},
   "outputs": [],
   "source": [
    "print(\"Best recall: \" + str(grid_search.best_score_))"
   ]
  },
  {
   "cell_type": "code",
   "execution_count": null,
   "metadata": {},
   "outputs": [],
   "source": [
    "print(\"Best average recall: %.2f\" % grid_search.best_score_)\n",
    "print(\"Parameters : %s\" % grid_search.best_params_)"
   ]
  },
  {
   "cell_type": "code",
   "execution_count": null,
   "metadata": {},
   "outputs": [],
   "source": [
    "clf.fit(X,y)"
   ]
  },
  {
   "cell_type": "code",
   "execution_count": null,
   "metadata": {},
   "outputs": [],
   "source": [
    "## Grid Search\n",
    "mlp_param_grid = {\n",
    "    'classifier__n_neighbors' : list(range(10,40)),\n",
    "    'classifier__weights' : ('uniform', 'distance'),\n",
    "    'classifier__p' : [2]\n",
    "}\n",
    "\n",
    "grid_search = GridSearchCV(knn, knn_param_grid, scoring = 'recall',cv=10)\n",
    "grid_search.fit(X,y)"
   ]
  },
  {
   "cell_type": "code",
   "execution_count": null,
   "metadata": {},
   "outputs": [],
   "source": [
    "df.columns"
   ]
  },
  {
   "cell_type": "code",
   "execution_count": null,
   "metadata": {},
   "outputs": [],
   "source": [
    "X = df.drop(labels = ['Revenue', 'Month',\n",
    "       'OperatingSystems', 'Browser', 'Region', 'TrafficType', 'VisitorType',\n",
    "       'Weekend'], axis = 1)\n",
    "y = df['Revenue'].replace({False : -1, True : 1})"
   ]
  },
  {
   "cell_type": "code",
   "execution_count": null,
   "metadata": {},
   "outputs": [],
   "source": [
    "X_train, X_test, y_train, y_test = train_test_split(X, y, test_size=0.2, random_state=42)"
   ]
  },
  {
   "cell_type": "code",
   "execution_count": null,
   "metadata": {},
   "outputs": [],
   "source": [
    "# Standar Scaler Pipes\n",
    "KNNPipe = Pipeline([('scaler', StandardScaler()), ('knn', KNeighborsClassifier())])\n",
    "MLPPipe = Pipeline([('scaler', StandardScaler()), ('mlp', MLPClassifier(activation = 'tanh',\n",
    "                                                   hidden_layer_sizes = (100,),\n",
    "                                                   max_iter = 1000, shuffle = True))])"
   ]
  },
  {
   "cell_type": "code",
   "execution_count": null,
   "metadata": {},
   "outputs": [],
   "source": [
    "KNNPipe.fit(X_train, y_train)\n",
    "y_pred = KNNPipe.predict(X_test)\n",
    "print(confusion_matrix(y_test, y_pred))\n",
    "print(classification_report(y_test,y_pred))"
   ]
  },
  {
   "cell_type": "code",
   "execution_count": null,
   "metadata": {},
   "outputs": [],
   "source": [
    "MLPPipe.fit(X_train, y_train)\n",
    "MLPpred = MLPPipe.predict(X_test)\n",
    "print(confusion_matrix(y_test, MLPpred))\n",
    "print(classification_report(y_test,MLPpred))"
   ]
  },
  {
   "cell_type": "code",
   "execution_count": null,
   "metadata": {},
   "outputs": [],
   "source": [
    "df.columns"
   ]
  },
  {
   "cell_type": "code",
   "execution_count": null,
   "metadata": {},
   "outputs": [],
   "source": [
    "X = df.drop(labels = ['Revenue', 'Administrative', 'Administrative_Duration', 'Informational',\n",
    "       'Informational_Duration', 'ProductRelated', 'ProductRelated_Duration',\n",
    "       'BounceRates', 'ExitRates', 'PageValues', 'SpecialDay'], axis = 1)\n",
    "y = df['Revenue'].replace({False : -1, True : 1})"
   ]
  },
  {
   "cell_type": "code",
   "execution_count": null,
   "metadata": {},
   "outputs": [],
   "source": [
    "X_train, X_test, y_train, y_test = train_test_split(X, y, test_size=0.2, random_state=42)"
   ]
  },
  {
   "cell_type": "code",
   "execution_count": null,
   "metadata": {},
   "outputs": [],
   "source": [
    "# Standar Scaler Pipes\n",
    "KNNPipe = Pipeline([('ohe', OneHotEncoder(handle_unknown='ignore')), ('knn', KNeighborsClassifier())])\n",
    "MLPPipe = Pipeline([('ohe', OneHotEncoder(handle_unknown='ignore')), ('mlp', MLPClassifier(activation = 'tanh',\n",
    "                                                   hidden_layer_sizes = (100,),\n",
    "                                                   max_iter = 1000, shuffle = True))])"
   ]
  },
  {
   "cell_type": "code",
   "execution_count": null,
   "metadata": {},
   "outputs": [],
   "source": [
    "KNNPipe.fit(X_train, y_train)\n",
    "y_pred = KNNPipe.predict(X_test)\n",
    "print(confusion_matrix(y_test, y_pred))\n",
    "print(classification_report(y_test,y_pred))"
   ]
  },
  {
   "cell_type": "code",
   "execution_count": null,
   "metadata": {},
   "outputs": [],
   "source": [
    "MLPPipe.fit(X_train, y_train)\n",
    "MLPpred = MLPPipe.predict(X_test)\n",
    "print(confusion_matrix(y_test, MLPpred))\n",
    "print(classification_report(y_test,MLPpred))"
   ]
  },
  {
   "cell_type": "code",
   "execution_count": null,
   "metadata": {},
   "outputs": [],
   "source": []
  },
  {
   "cell_type": "code",
   "execution_count": null,
   "metadata": {},
   "outputs": [],
   "source": []
  }
 ],
 "metadata": {
  "kernelspec": {
   "display_name": "Python 3",
   "language": "python",
   "name": "python3"
  },
  "language_info": {
   "codemirror_mode": {
    "name": "ipython",
    "version": 3
   },
   "file_extension": ".py",
   "mimetype": "text/x-python",
   "name": "python",
   "nbconvert_exporter": "python",
   "pygments_lexer": "ipython3",
   "version": "3.7.6"
  }
 },
 "nbformat": 4,
 "nbformat_minor": 4
}
